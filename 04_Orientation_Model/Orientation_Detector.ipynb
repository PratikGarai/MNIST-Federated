{
  "nbformat": 4,
  "nbformat_minor": 0,
  "metadata": {
    "colab": {
      "name": "Orientation Detector.ipynb",
      "provenance": []
    },
    "kernelspec": {
      "name": "python3",
      "display_name": "Python 3"
    },
    "language_info": {
      "name": "python"
    },
    "accelerator": "GPU"
  },
  "cells": [
    {
      "cell_type": "code",
      "metadata": {
        "colab": {
          "base_uri": "https://localhost:8080/"
        },
        "id": "jWFNskGRZR75",
        "outputId": "ea5b628e-f14e-4e85-87bf-461b3800b255"
      },
      "source": [
        "!wget https://raw.githubusercontent.com/PratikGarai/MNIST-Federated/master/04_Orientation_Model/dataset.py"
      ],
      "execution_count": 1,
      "outputs": [
        {
          "output_type": "stream",
          "text": [
            "--2021-08-30 05:49:50--  https://raw.githubusercontent.com/PratikGarai/MNIST-Federated/master/04_Orientation_Model/dataset.py\n",
            "Resolving raw.githubusercontent.com (raw.githubusercontent.com)... 185.199.110.133, 185.199.108.133, 185.199.111.133, ...\n",
            "Connecting to raw.githubusercontent.com (raw.githubusercontent.com)|185.199.110.133|:443... connected.\n",
            "HTTP request sent, awaiting response... 200 OK\n",
            "Length: 3105 (3.0K) [text/plain]\n",
            "Saving to: ‘dataset.py’\n",
            "\n",
            "\rdataset.py            0%[                    ]       0  --.-KB/s               \rdataset.py          100%[===================>]   3.03K  --.-KB/s    in 0s      \n",
            "\n",
            "2021-08-30 05:49:50 (43.3 MB/s) - ‘dataset.py’ saved [3105/3105]\n",
            "\n"
          ],
          "name": "stdout"
        }
      ]
    },
    {
      "cell_type": "code",
      "metadata": {
        "id": "d2ydE5XXZvHx"
      },
      "source": [
        "from dataset import MNISTDataset, printGridSlice\n",
        "import tensorflow as tf\n",
        "from sklearn.model_selection import train_test_split\n",
        "import numpy as np"
      ],
      "execution_count": 39,
      "outputs": []
    },
    {
      "cell_type": "code",
      "metadata": {
        "colab": {
          "base_uri": "https://localhost:8080/"
        },
        "id": "lVptBbltaFa5",
        "outputId": "6a2d9d9d-954c-4aae-e806-0f56876dae4f"
      },
      "source": [
        "dataset = MNISTDataset(4)"
      ],
      "execution_count": 3,
      "outputs": [
        {
          "output_type": "stream",
          "text": [
            "Downloading data from https://storage.googleapis.com/tensorflow/tf-keras-datasets/mnist.npz\n",
            "11493376/11490434 [==============================] - 0s 0us/step\n",
            "11501568/11490434 [==============================] - 0s 0us/step\n"
          ],
          "name": "stdout"
        }
      ]
    },
    {
      "cell_type": "code",
      "metadata": {
        "colab": {
          "base_uri": "https://localhost:8080/",
          "height": 611
        },
        "id": "7q5rvNaBaTIj",
        "outputId": "c5d136cd-d5a2-4488-8435-5f113c5dd6c5"
      },
      "source": [
        "dataset.printSlice(3, 3)"
      ],
      "execution_count": 4,
      "outputs": [
        {
          "output_type": "display_data",
          "data": {
            "image/png": "[encoded data removed]",
            "text/plain": [
              "<Figure size 720x720 with 9 Axes>"
            ]
          },
          "metadata": {
            "needs_background": "light"
          }
        },
        {
          "output_type": "stream",
          "text": [
            "[2, 3, 0, 1, 1, 1, 2, 3, 3]\n"
          ],
          "name": "stdout"
        }
      ]
    },
    {
      "cell_type": "code",
      "metadata": {
        "colab": {
          "base_uri": "https://localhost:8080/"
        },
        "id": "LyuxyqjEg5Oi",
        "outputId": "a5293c6e-55ff-453d-a7c8-be5e23a5275f"
      },
      "source": [
        "x_train, x_test, y_train, y_test = train_test_split(np.array(dataset.x), np.array(dataset.y), test_size = 0.15)\n",
        "x_train = x_train.reshape(*x_train.shape, 1)\n",
        "x_test = x_test.reshape(*x_test.shape, 1)\n",
        "\n",
        "print(x_train.shape)\n",
        "print(x_test.shape)\n",
        "print(y_train.shape)\n",
        "print(y_test.shape)"
      ],
      "execution_count": 38,
      "outputs": [
        {
          "output_type": "stream",
          "text": [
            "(4965, 28, 28, 1)\n",
            "(877, 28, 28, 1)\n",
            "(4965,)\n",
            "(877,)\n"
          ],
          "name": "stdout"
        }
      ]
    },
    {
      "cell_type": "code",
      "metadata": {
        "colab": {
          "base_uri": "https://localhost:8080/"
        },
        "id": "u5NaDn6bgwfS",
        "outputId": "3c462ed9-95ac-41e6-9459-1b882d66c916"
      },
      "source": [
        "model = tf.keras.models.Sequential([\n",
        "    tf.keras.layers.Conv2D(filters=32, kernel_size=2, padding=\"same\", activation=\"relu\", input_shape=(28, 28, 1)),\n",
        "    tf.keras.layers.Conv2D(filters=32, kernel_size=2, padding=\"same\", activation=\"relu\"),\n",
        "    tf.keras.layers.MaxPool2D(pool_size=2, strides=2, padding='valid'),\n",
        "    tf.keras.layers.Conv2D(filters=64, kernel_size=2, padding=\"same\", activation=\"relu\"),\n",
        "    tf.keras.layers.Conv2D(filters=64, kernel_size=2, padding=\"same\", activation=\"relu\"),\n",
        "    tf.keras.layers.MaxPool2D(pool_size=2, strides=2, padding='valid'),\n",
        "    tf.keras.layers.Flatten(),\n",
        "    tf.keras.layers.Dense(units=256, activation='relu'),\n",
        "    tf.keras.layers.Dense(units=164, activation='relu'),\n",
        "    tf.keras.layers.Dense(units=4, activation='softmax')\n",
        "])\n",
        "\n",
        "model.compile(\n",
        "    loss = \"sparse_categorical_crossentropy\",\n",
        "    optimizer = \"adam\",\n",
        "    metrics = [\"accuracy\"]\n",
        ")\n",
        "\n",
        "model.summary()"
      ],
      "execution_count": 35,
      "outputs": [
        {
          "output_type": "stream",
          "text": [
            "Model: \"sequential_7\"\n",
            "_________________________________________________________________\n",
            "Layer (type)                 Output Shape              Param #   \n",
            "=================================================================\n",
            "conv2d_28 (Conv2D)           (None, 28, 28, 32)        160       \n",
            "_________________________________________________________________\n",
            "conv2d_29 (Conv2D)           (None, 28, 28, 32)        4128      \n",
            "_________________________________________________________________\n",
            "max_pooling2d_14 (MaxPooling (None, 14, 14, 32)        0         \n",
            "_________________________________________________________________\n",
            "conv2d_30 (Conv2D)           (None, 14, 14, 64)        8256      \n",
            "_________________________________________________________________\n",
            "conv2d_31 (Conv2D)           (None, 14, 14, 64)        16448     \n",
            "_________________________________________________________________\n",
            "max_pooling2d_15 (MaxPooling (None, 7, 7, 64)          0         \n",
            "_________________________________________________________________\n",
            "flatten_7 (Flatten)          (None, 3136)              0         \n",
            "_________________________________________________________________\n",
            "dense_21 (Dense)             (None, 256)               803072    \n",
            "_________________________________________________________________\n",
            "dense_22 (Dense)             (None, 164)               42148     \n",
            "_________________________________________________________________\n",
            "dense_23 (Dense)             (None, 4)                 660       \n",
            "=================================================================\n",
            "Total params: 874,872\n",
            "Trainable params: 874,872\n",
            "Non-trainable params: 0\n",
            "_________________________________________________________________\n"
          ],
          "name": "stdout"
        }
      ]
    },
    {
      "cell_type": "code",
      "metadata": {
        "colab": {
          "base_uri": "https://localhost:8080/"
        },
        "id": "VXWp2NsTljyS",
        "outputId": "b8be0cdb-24ff-409e-9746-2f396525b05b"
      },
      "source": [
        "history = model.fit(\n",
        "    x_train, \n",
        "    y_train, \n",
        "    validation_data = (x_test, y_test),\n",
        "    epochs = 10\n",
        ")"
      ],
      "execution_count": 36,
      "outputs": [
        {
          "output_type": "stream",
          "text": [
            "Epoch 1/10\n",
            "156/156 [==============================] - 3s 12ms/step - loss: 0.4166 - accuracy: 0.9484 - val_loss: 0.0372 - val_accuracy: 0.9909\n",
            "Epoch 2/10\n",
            "156/156 [==============================] - 1s 9ms/step - loss: 0.0164 - accuracy: 0.9936 - val_loss: 0.0156 - val_accuracy: 0.9954\n",
            "Epoch 3/10\n",
            "156/156 [==============================] - 1s 9ms/step - loss: 0.0095 - accuracy: 0.9974 - val_loss: 0.0300 - val_accuracy: 0.9909\n",
            "Epoch 4/10\n",
            "156/156 [==============================] - 1s 9ms/step - loss: 0.0084 - accuracy: 0.9980 - val_loss: 0.0209 - val_accuracy: 0.9920\n",
            "Epoch 5/10\n",
            "156/156 [==============================] - 1s 9ms/step - loss: 0.0107 - accuracy: 0.9958 - val_loss: 0.0113 - val_accuracy: 0.9954\n",
            "Epoch 6/10\n",
            "156/156 [==============================] - 1s 9ms/step - loss: 0.0268 - accuracy: 0.9911 - val_loss: 0.0458 - val_accuracy: 0.9840\n",
            "Epoch 7/10\n",
            "156/156 [==============================] - 1s 9ms/step - loss: 0.0127 - accuracy: 0.9964 - val_loss: 0.0179 - val_accuracy: 0.9954\n",
            "Epoch 8/10\n",
            "156/156 [==============================] - 1s 9ms/step - loss: 0.0068 - accuracy: 0.9980 - val_loss: 0.0138 - val_accuracy: 0.9954\n",
            "Epoch 9/10\n",
            "156/156 [==============================] - 1s 9ms/step - loss: 5.2537e-04 - accuracy: 0.9998 - val_loss: 0.0142 - val_accuracy: 0.9954\n",
            "Epoch 10/10\n",
            "156/156 [==============================] - 1s 9ms/step - loss: 6.3331e-05 - accuracy: 1.0000 - val_loss: 0.0141 - val_accuracy: 0.9954\n"
          ],
          "name": "stdout"
        }
      ]
    },
    {
      "cell_type": "code",
      "metadata": {
        "colab": {
          "base_uri": "https://localhost:8080/",
          "height": 611
        },
        "id": "P6fo6urPq3aL",
        "outputId": "276c0dd3-6c9c-4de7-af74-f36dfa79bf76"
      },
      "source": [
        "val_x = x_test.reshape(-1, 28, 28)\n",
        "printGridSlice(val_x, 3, 3)\n",
        "print(y_test[:9])"
      ],
      "execution_count": 42,
      "outputs": [
        {
          "output_type": "display_data",
          "data": {
            "image/png": "[encoded data removed]",
            "text/plain": [
              "<Figure size 720x720 with 9 Axes>"
            ]
          },
          "metadata": {
            "needs_background": "light"
          }
        },
        {
          "output_type": "stream",
          "text": [
            "[1 0 3 2 1 2 2 0 3]\n"
          ],
          "name": "stdout"
        }
      ]
    }
  ]
}